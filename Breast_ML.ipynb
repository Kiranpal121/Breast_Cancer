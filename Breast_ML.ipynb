{
  "nbformat": 4,
  "nbformat_minor": 0,
  "metadata": {
    "colab": {
      "provenance": [],
      "authorship_tag": "ABX9TyM6gEOV4D+5zRG877hinUNd",
      "include_colab_link": true
    },
    "kernelspec": {
      "name": "python3",
      "display_name": "Python 3"
    },
    "language_info": {
      "name": "python"
    }
  },
  "cells": [
    {
      "cell_type": "markdown",
      "metadata": {
        "id": "view-in-github",
        "colab_type": "text"
      },
      "source": [
        "<a href=\"https://colab.research.google.com/github/Kiranpal121/Breast_Cancer/blob/main/Breast_ML.ipynb\" target=\"_parent\"><img src=\"https://colab.research.google.com/assets/colab-badge.svg\" alt=\"Open In Colab\"/></a>"
      ]
    },
    {
      "cell_type": "code",
      "execution_count": null,
      "metadata": {
        "id": "Nm7_nswls-rA"
      },
      "outputs": [],
      "source": [
        "import pandas as pd\n",
        "import numpy as np\n",
        "import cv2\n",
        "import PIL\n",
        "import matplotlib.pyplot as plt\n",
        "import plotly.express as px\n",
        "import seaborn as sns\n",
        "import glob\n",
        "import random\n",
        "import os\n",
        "from os import listdir\n",
        "random.seed(100)\n",
        "np.random.seed(100)"
      ]
    },
    {
      "cell_type": "code",
      "source": [
        "dicom_data = pd.read_csv('../input/cbis-ddsm-breast-cancer-image-dataset/csv/dicom_info.csv')"
      ],
      "metadata": {
        "id": "2rbIwAsntDla"
      },
      "execution_count": null,
      "outputs": []
    },
    {
      "cell_type": "code",
      "source": [
        "dicom_data.head()"
      ],
      "metadata": {
        "id": "tZm-Qc4KtI9g"
      },
      "execution_count": null,
      "outputs": []
    },
    {
      "cell_type": "code",
      "source": [
        "dicom_data.info()"
      ],
      "metadata": {
        "id": "uUniOjUqtI_n"
      },
      "execution_count": null,
      "outputs": []
    },
    {
      "cell_type": "code",
      "source": [
        "cropped_images=dicom_data[dicom_data.SeriesDescription == 'cropped images'].image_path\n",
        "cropped_images.head()\n",
        "\n"
      ],
      "metadata": {
        "id": "6k1S1qmvtJBo"
      },
      "execution_count": null,
      "outputs": []
    },
    {
      "cell_type": "code",
      "source": [
        "image_dir = '../input/cbis-ddsm-breast-cancer-image-dataset/jpeg'"
      ],
      "metadata": {
        "id": "gxvxgb1btJD2"
      },
      "execution_count": null,
      "outputs": []
    },
    {
      "cell_type": "code",
      "source": [
        "cropped_images = cropped_images.apply(lambda x: x.replace('CBIS-DDSM/jpeg', image_dir))\n",
        "cropped_images.head()"
      ],
      "metadata": {
        "id": "KxDcOPhltJFv"
      },
      "execution_count": null,
      "outputs": []
    },
    {
      "cell_type": "code",
      "source": [
        "for file  in cropped_images[0:5]:\n",
        "  cropped_images_show = PIL.Image.open(file)\n",
        "  gray_img= cropped_images_show.convert(\"L\")\n",
        "  plt.imshow(gray_img, cmap='gray')"
      ],
      "metadata": {
        "id": "hblYeq39tJHv"
      },
      "execution_count": null,
      "outputs": []
    },
    {
      "cell_type": "code",
      "source": [
        "full_mammogram_images=dicom_data[dicom_data.SeriesDescription == 'full mammogram images'].image_path\n",
        "full_mammogram_images.head()"
      ],
      "metadata": {
        "id": "OrChInE0tJKT"
      },
      "execution_count": null,
      "outputs": []
    },
    {
      "cell_type": "code",
      "source": [
        "full_mammogram_images = full_mammogram_images.apply(lambda x: x.replace('CBIS-DDSM/jpeg', image_dir))\n",
        "full_mammogram_images.head()"
      ],
      "metadata": {
        "id": "oTDYbwEBtJM3"
      },
      "execution_count": null,
      "outputs": []
    },
    {
      "cell_type": "code",
      "source": [
        "for file  in full_mammogram_images[0:5]:\n",
        "  full_mammogram_images_show = PIL.Image.open(file)\n",
        "  gray_img= full_mammogram_images_show.convert(\"L\")\n",
        "  plt.imshow(gray_img, cmap='gray')"
      ],
      "metadata": {
        "id": "U8wrzF9utJPM"
      },
      "execution_count": null,
      "outputs": []
    },
    {
      "cell_type": "code",
      "source": [
        "ROI_mask_images=dicom_data[dicom_data.SeriesDescription == 'ROI mask images'].image_path\n",
        "ROI_mask_images.head()"
      ],
      "metadata": {
        "id": "N-CwJN3ytJR3"
      },
      "execution_count": null,
      "outputs": []
    },
    {
      "cell_type": "code",
      "source": [
        "ROI_mask_images = ROI_mask_images.apply(lambda x: x.replace('CBIS-DDSM/jpeg', image_dir))\n",
        "ROI_mask_images.head()"
      ],
      "metadata": {
        "id": "cyB_QtGHtkWk"
      },
      "execution_count": null,
      "outputs": []
    },
    {
      "cell_type": "code",
      "source": [
        "for file  in ROI_mask_images[0:5]:\n",
        "  ROI_mask_images_show = PIL.Image.open(file)\n",
        "  gray_img= ROI_mask_images_show.convert(\"L\")\n",
        "  plt.imshow(gray_img, cmap='gray')"
      ],
      "metadata": {
        "id": "iacokEn6tkYy"
      },
      "execution_count": null,
      "outputs": []
    },
    {
      "cell_type": "code",
      "source": [
        "data_1=pd.read_csv('../input/cbis-ddsm-breast-cancer-image-dataset/csv/calc_case_description_train_set.csv')"
      ],
      "metadata": {
        "id": "9mf3jBJFtkbB"
      },
      "execution_count": null,
      "outputs": []
    },
    {
      "cell_type": "code",
      "source": [
        "data_1.head()"
      ],
      "metadata": {
        "id": "Tc59TrRetkdl"
      },
      "execution_count": null,
      "outputs": []
    },
    {
      "cell_type": "code",
      "source": [
        "data_1.info()"
      ],
      "metadata": {
        "id": "w3x34BEbtkf6"
      },
      "execution_count": null,
      "outputs": []
    },
    {
      "cell_type": "code",
      "source": [
        "data_1.describe()"
      ],
      "metadata": {
        "id": "NALP9Mbktkie"
      },
      "execution_count": null,
      "outputs": []
    },
    {
      "cell_type": "code",
      "source": [
        "data_2=pd.read_csv('../input/cbis-ddsm-breast-cancer-image-dataset/csv/mass_case_description_train_set.csv')"
      ],
      "metadata": {
        "id": "ha3ut9vUtkkv"
      },
      "execution_count": null,
      "outputs": []
    },
    {
      "cell_type": "code",
      "source": [
        "data_2.head()"
      ],
      "metadata": {
        "id": "7-27wueSt5LK"
      },
      "execution_count": null,
      "outputs": []
    },
    {
      "cell_type": "code",
      "source": [
        "data_2.info()"
      ],
      "metadata": {
        "id": "Bs6SxmkAt5Nl"
      },
      "execution_count": null,
      "outputs": []
    },
    {
      "cell_type": "code",
      "source": [
        "data_2.describe()"
      ],
      "metadata": {
        "id": "lyEYa3T6t5QX"
      },
      "execution_count": null,
      "outputs": []
    },
    {
      "cell_type": "code",
      "source": [
        "dicom_cleaning_data = dicom_data.copy()\n",
        "dicom_cleaning_data.head()"
      ],
      "metadata": {
        "id": "1nSxEsCpt5S-"
      },
      "execution_count": null,
      "outputs": []
    },
    {
      "cell_type": "code",
      "source": [
        "dicom_cleaning_data.drop(['PatientBirthDate','AccessionNumber','Columns','ContentDate','ContentTime','PatientSex','PatientBirthDate',\n",
        "                                                'ReferringPhysicianName','Rows','SOPClassUID','SOPInstanceUID',\n",
        "                                                'StudyDate','StudyID','StudyInstanceUID','StudyTime','InstanceNumber','SeriesInstanceUID','SeriesNumber'],axis =1, inplace=True)"
      ],
      "metadata": {
        "id": "EAT_DY6dt5Wf"
      },
      "execution_count": null,
      "outputs": []
    },
    {
      "cell_type": "code",
      "source": [
        "dicom_cleaning_data.info()"
      ],
      "metadata": {
        "id": "Azy2eWKYtknC"
      },
      "execution_count": null,
      "outputs": []
    },
    {
      "cell_type": "code",
      "source": [
        "dicom_cleaning_data.isna().sum()"
      ],
      "metadata": {
        "id": "p9SM8IottkpQ"
      },
      "execution_count": null,
      "outputs": []
    },
    {
      "cell_type": "code",
      "source": [
        "dicom_cleaning_data['SeriesDescription'].fillna(method = 'bfill', axis = 0, inplace=True)"
      ],
      "metadata": {
        "id": "V6P-uy-itkri"
      },
      "execution_count": null,
      "outputs": []
    },
    {
      "cell_type": "code",
      "source": [
        "dicom_cleaning_data['Laterality'].fillna(method = 'bfill', axis = 0, inplace=True)"
      ],
      "metadata": {
        "id": "F35WwOpttJUb"
      },
      "execution_count": null,
      "outputs": []
    },
    {
      "cell_type": "code",
      "source": [
        "dicom_cleaning_data.isna().sum()"
      ],
      "metadata": {
        "id": "pNoQqwMctJX_"
      },
      "execution_count": null,
      "outputs": []
    },
    {
      "cell_type": "code",
      "source": [
        "Data_cleaning_1 = data_1.copy()"
      ],
      "metadata": {
        "id": "CcdOal0duScV"
      },
      "execution_count": null,
      "outputs": []
    },
    {
      "cell_type": "code",
      "source": [
        "Data_cleaning_1 = Data_cleaning_1.rename(columns={'calc type':'calc_type'})"
      ],
      "metadata": {
        "id": "WPb_Fa4CuSem"
      },
      "execution_count": null,
      "outputs": []
    },
    {
      "cell_type": "code",
      "source": [
        "Data_cleaning_1 = Data_cleaning_1.rename(columns={'calc distribution':'calc_distribution'})"
      ],
      "metadata": {
        "id": "29tu1WzquShA"
      },
      "execution_count": null,
      "outputs": []
    },
    {
      "cell_type": "code",
      "source": [
        "Data_cleaning_1 = Data_cleaning_1.rename(columns={'image view':'image_view'})"
      ],
      "metadata": {
        "id": "N95uuAyIuSjV"
      },
      "execution_count": null,
      "outputs": []
    },
    {
      "cell_type": "code",
      "source": [
        "Data_cleaning_1 = Data_cleaning_1.rename(columns={'left or right breast':'left_or_right_breast'})"
      ],
      "metadata": {
        "id": "Hk66aFFDuSlk"
      },
      "execution_count": null,
      "outputs": []
    },
    {
      "cell_type": "code",
      "source": [
        "Data_cleaning_1 = Data_cleaning_1.rename(columns={'breast density':'breast_density'})"
      ],
      "metadata": {
        "id": "A58BLzxZuSoI"
      },
      "execution_count": null,
      "outputs": []
    },
    {
      "cell_type": "code",
      "source": [
        "Data_cleaning_1 = Data_cleaning_1.rename(columns={'abnormality type':'abnormality_type'})"
      ],
      "metadata": {
        "id": "WxfjYkceuSq1"
      },
      "execution_count": null,
      "outputs": []
    },
    {
      "cell_type": "code",
      "source": [
        "Data_cleaning_1['pathology'] = Data_cleaning_1['pathology'].astype('category')"
      ],
      "metadata": {
        "id": "hvucUItYuh43"
      },
      "execution_count": null,
      "outputs": []
    },
    {
      "cell_type": "code",
      "source": [
        "Data_cleaning_1['calc_type'] = Data_cleaning_1['calc_type'].astype('category')"
      ],
      "metadata": {
        "id": "feyEyhQcuh63"
      },
      "execution_count": null,
      "outputs": []
    },
    {
      "cell_type": "code",
      "source": [
        "Data_cleaning_1['calc_distribution'] = Data_cleaning_1['calc_distribution'].astype('category')"
      ],
      "metadata": {
        "id": "mxVQgo_wuh9G"
      },
      "execution_count": null,
      "outputs": []
    },
    {
      "cell_type": "code",
      "source": [
        "Data_cleaning_1['abnormality_type'] = Data_cleaning_1['abnormality_type'].astype('category')"
      ],
      "metadata": {
        "id": "DBsUEUPmuh_U"
      },
      "execution_count": null,
      "outputs": []
    },
    {
      "cell_type": "code",
      "source": [
        "Data_cleaning_1['image_view'] = Data_cleaning_1['image_view'].astype('category')"
      ],
      "metadata": {
        "id": "88RxB-VuuiBx"
      },
      "execution_count": null,
      "outputs": []
    },
    {
      "cell_type": "code",
      "source": [
        "Data_cleaning_1['left_or_right_breast'] = Data_cleaning_1['left_or_right_breast'].astype('category')"
      ],
      "metadata": {
        "id": "dRD-U1AVuiEu"
      },
      "execution_count": null,
      "outputs": []
    },
    {
      "cell_type": "code",
      "source": [
        "Data_cleaning_1.isna().sum()"
      ],
      "metadata": {
        "id": "egNma7DBuiII"
      },
      "execution_count": null,
      "outputs": []
    },
    {
      "cell_type": "code",
      "source": [
        "Data_cleaning_1['calc_type'].fillna(method = 'bfill', axis = 0, inplace=True)"
      ],
      "metadata": {
        "id": "xwebG_Iuu2Xt"
      },
      "execution_count": null,
      "outputs": []
    },
    {
      "cell_type": "code",
      "source": [
        "Data_cleaning_1['calc_distribution'].fillna(method = 'bfill', axis = 0, inplace=True)"
      ],
      "metadata": {
        "id": "P9y1_LERu2Z9"
      },
      "execution_count": null,
      "outputs": []
    },
    {
      "cell_type": "code",
      "source": [
        "Data_cleaning_1.isna().sum()"
      ],
      "metadata": {
        "id": "U4TRSfZfu2cY"
      },
      "execution_count": null,
      "outputs": []
    },
    {
      "cell_type": "code",
      "source": [
        "Data_cleaning_2 = data_2.copy()"
      ],
      "metadata": {
        "id": "mWL3Fhf1u2e8"
      },
      "execution_count": null,
      "outputs": []
    },
    {
      "cell_type": "code",
      "source": [
        "Data_cleaning_2 = Data_cleaning_2.rename(columns={'mass shape':'mass_shape'})"
      ],
      "metadata": {
        "id": "n-4TdQunu2hm"
      },
      "execution_count": null,
      "outputs": []
    },
    {
      "cell_type": "code",
      "source": [
        "Data_cleaning_2 = Data_cleaning_2.rename(columns={'left or right breast':'left_or_right_breast'})"
      ],
      "metadata": {
        "id": "sYKdFukQu2kK"
      },
      "execution_count": null,
      "outputs": []
    },
    {
      "cell_type": "code",
      "source": [
        "Data_cleaning_2 = Data_cleaning_2.rename(columns={'mass margins':'mass_margins'})"
      ],
      "metadata": {
        "id": "oRz0MNM8u2nx"
      },
      "execution_count": null,
      "outputs": []
    },
    {
      "cell_type": "code",
      "source": [
        "Data_cleaning_2 = Data_cleaning_2.rename(columns={'image view':'image_view'})"
      ],
      "metadata": {
        "id": "vTD3WPTKuSuV"
      },
      "execution_count": null,
      "outputs": []
    },
    {
      "cell_type": "code",
      "source": [
        "Data_cleaning_2 = Data_cleaning_2.rename(columns={'image view':'image_view'})"
      ],
      "metadata": {
        "id": "aCmLY1xbvMGo"
      },
      "execution_count": null,
      "outputs": []
    },
    {
      "cell_type": "code",
      "source": [
        "Data_cleaning_2 = Data_cleaning_2.rename(columns={'abnormality type':'abnormality_type'})"
      ],
      "metadata": {
        "id": "043czFfMvMJC"
      },
      "execution_count": null,
      "outputs": []
    },
    {
      "cell_type": "code",
      "source": [
        "Data_cleaning_2['left_or_right_breast'] = Data_cleaning_2['left_or_right_breast'].astype('category')"
      ],
      "metadata": {
        "id": "0c6ysedrvMLR"
      },
      "execution_count": null,
      "outputs": []
    },
    {
      "cell_type": "code",
      "source": [
        "Data_cleaning_2['image_view'] = Data_cleaning_2['image_view'].astype('category')"
      ],
      "metadata": {
        "id": "3KnfOuTSvMNf"
      },
      "execution_count": null,
      "outputs": []
    },
    {
      "cell_type": "code",
      "source": [
        "Data_cleaning_2['mass_margins'] = Data_cleaning_2['mass_margins'].astype('category')"
      ],
      "metadata": {
        "id": "JxkLjyUSvMP2"
      },
      "execution_count": null,
      "outputs": []
    },
    {
      "cell_type": "code",
      "source": [
        "Data_cleaning_2['mass_shape'] = Data_cleaning_2['mass_shape'].astype('category')"
      ],
      "metadata": {
        "id": "S3zyf2XtvMSS"
      },
      "execution_count": null,
      "outputs": []
    },
    {
      "cell_type": "code",
      "source": [
        "Data_cleaning_2['abnormality_type'] = Data_cleaning_2['abnormality_type'].astype('category')"
      ],
      "metadata": {
        "id": "jcY9JgYovMU1"
      },
      "execution_count": null,
      "outputs": []
    },
    {
      "cell_type": "code",
      "source": [
        "Data_cleaning_2['pathology'] = Data_cleaning_2['pathology'].astype('category')"
      ],
      "metadata": {
        "id": "Xv11Jc8nvMXS"
      },
      "execution_count": null,
      "outputs": []
    },
    {
      "cell_type": "code",
      "source": [
        "Data_cleaning_2.isna().sum()"
      ],
      "metadata": {
        "id": "Y7MRP-3pvMaz"
      },
      "execution_count": null,
      "outputs": []
    },
    {
      "cell_type": "code",
      "source": [
        "Data_cleaning_2['mass_shape'].fillna(method = 'bfill', axis = 0, inplace=True)"
      ],
      "metadata": {
        "id": "F0pPFEIbvgXn"
      },
      "execution_count": null,
      "outputs": []
    },
    {
      "cell_type": "code",
      "source": [
        "Data_cleaning_2['mass_margins'].fillna(method = 'bfill', axis = 0, inplace=True)"
      ],
      "metadata": {
        "id": "M_r9iPqXvgaV"
      },
      "execution_count": null,
      "outputs": []
    },
    {
      "cell_type": "code",
      "source": [
        "Data_cleaning_2.isna().sum()"
      ],
      "metadata": {
        "id": "M0Lpz5tgvgc2"
      },
      "execution_count": null,
      "outputs": []
    },
    {
      "cell_type": "code",
      "source": [
        "Data_cleaning_2.info()"
      ],
      "metadata": {
        "id": "x4pcgF6Gvgfa"
      },
      "execution_count": null,
      "outputs": []
    },
    {
      "cell_type": "code",
      "source": [
        "breast_img = glob.glob('../input/breast-histopathology-images/IDC_regular_ps50_idx5/**/*.png', recursive = True)\n",
        "​"
      ],
      "metadata": {
        "id": "ABaCAndJvgiJ"
      },
      "execution_count": null,
      "outputs": []
    },
    {
      "cell_type": "code",
      "source": [
        "for imgname in breast_img[:3]:\n",
        "    print(imgname)"
      ],
      "metadata": {
        "id": "8tUDw-N5vgkx"
      },
      "execution_count": null,
      "outputs": []
    },
    {
      "cell_type": "code",
      "source": [
        "non_can_img = []\n",
        "can_img = []\n",
        "\n",
        "for img in breast_img:\n",
        "    if img[-5] == '0' :\n",
        "        non_can_img.append(img)\n",
        "\n",
        "    elif img[-5] == '1' :\n",
        "        can_img.append(img)"
      ],
      "metadata": {
        "id": "cfXevolqvgnM"
      },
      "execution_count": null,
      "outputs": []
    },
    {
      "cell_type": "code",
      "source": [
        "non_can_num = len(non_can_img)  # No cancer\n",
        "can_num = len(can_img)   # Cancer\n",
        "\n",
        "total_img_num = non_can_num + can_num\n",
        "\n",
        "print('Number of Images of no cancer: {}' .format(non_can_num))   # images of Non cancer\n",
        "print('Number of Images of cancer : {}' .format(can_num))   # images of cancer\n",
        "print('Total Number of Images : {}' .format(total_img_num))"
      ],
      "metadata": {
        "id": "F-rODu47vgp3"
      },
      "execution_count": null,
      "outputs": []
    },
    {
      "cell_type": "code",
      "source": [
        "data_insight_1 = pd.DataFrame({'state of cancer' : ['0','1'],'Numbers of Patients' : [198738,78786]})"
      ],
      "metadata": {
        "id": "6eimHnAevgtR"
      },
      "execution_count": null,
      "outputs": []
    },
    {
      "cell_type": "code",
      "source": [
        "bar = px.bar(data_frame=data_insight_1, x = 'state of cancer', y='Numbers of Patients', color='state of cancer')\n",
        "bar.update_layout(title_text='Number of Patients with cancer (1) and patients with no cancer (0)', title_x=0.5)\n",
        "bar.show()"
      ],
      "metadata": {
        "id": "Jha-P9X1v2kt"
      },
      "execution_count": null,
      "outputs": []
    },
    {
      "cell_type": "code",
      "source": [
        "r= pd.DataFrame(dicom_cleaning_data['SeriesDescription'].value_counts())\n",
        "r= r.reset_index()\n",
        "r= r.rename(columns={'SeriesDescription':'SeriesDescription_counts', 'index':'SeriesDescription'})\n",
        "r"
      ],
      "metadata": {
        "id": "wwcCp4Ylv2nG"
      },
      "execution_count": null,
      "outputs": []
    },
    {
      "cell_type": "code",
      "source": [
        "ba_1 = px.bar(data_frame=r, x = 'SeriesDescription', y='SeriesDescription_counts', color='SeriesDescription')\n",
        "ba_1.update_layout(title_text='Types of images used', title_x=0.5)\n",
        "ba_1.show()"
      ],
      "metadata": {
        "id": "5_AXuFa6v2pe"
      },
      "execution_count": null,
      "outputs": []
    },
    {
      "cell_type": "code",
      "source": [
        "q= pd.DataFrame(dicom_cleaning_data['PatientOrientation'].value_counts())\n",
        "q= q.reset_index()\n",
        "q= q.rename(columns={'PatientOrientation':'PatientOrientation_counts', 'index':'PatientOrientation'})\n",
        "q"
      ],
      "metadata": {
        "id": "wlN1ccyyv2r0"
      },
      "execution_count": null,
      "outputs": []
    },
    {
      "cell_type": "code",
      "source": [
        "qfig =px.pie(data_frame=q, names= 'PatientOrientation', values='PatientOrientation_counts', color = 'PatientOrientation')\n",
        "qfig.update_layout(title_text='The percenyages of PatientOrientation ', title_x=0.5)\n",
        "qfig.show()"
      ],
      "metadata": {
        "id": "MtPN49aHv2uJ"
      },
      "execution_count": null,
      "outputs": []
    },
    {
      "cell_type": "code",
      "source": [
        "f= pd.DataFrame(dicom_cleaning_data['BodyPartExamined'].value_counts())\n",
        "f= f.reset_index()\n",
        "f= f.rename(columns={'BodyPartExamined':'BodyPartExamined_counts', 'index':'Breast part Examined'})\n",
        "f"
      ],
      "metadata": {
        "id": "_DPHCyekv2wm"
      },
      "execution_count": null,
      "outputs": []
    },
    {
      "cell_type": "code",
      "source": [
        "ba = px.bar(data_frame=f, x = 'Breast part Examined', y='BodyPartExamined_counts', color='Breast part Examined')\n",
        "ba.update_layout(title_text='Breast Parts Examined ', title_x=0.5,yaxis=dict(type='log'))\n",
        "ba.show()"
      ],
      "metadata": {
        "id": "NGv-Vgszv20I"
      },
      "execution_count": null,
      "outputs": []
    },
    {
      "cell_type": "code",
      "source": [
        "data_insight_2 = pd.DataFrame({'abnormality':[Data_cleaning_1.abnormality_type[0],Data_cleaning_2.abnormality_type[0]],\n",
        "                               'counts_of_abnormalties':[len(Data_cleaning_1),len(Data_cleaning_2)]})\n",
        "data_insight_2"
      ],
      "metadata": {
        "id": "c19MR1UUwGX6"
      },
      "execution_count": null,
      "outputs": []
    },
    {
      "cell_type": "code",
      "source": [
        "bar_2 =px.bar(data_frame=data_insight_2, x = 'abnormality', y='counts_of_abnormalties', color = 'abnormality')\n",
        "bar_2.update_layout(title_text='Types of abnormalites of cancer', title_x=0.5)\n",
        "bar_2.show()"
      ],
      "metadata": {
        "id": "mRu70FQfwGZ9"
      },
      "execution_count": null,
      "outputs": []
    },
    {
      "cell_type": "code",
      "source": [
        "x = Data_cleaning_1.left_or_right_breast.value_counts().RIGHT\n",
        "y = Data_cleaning_1.left_or_right_breast.value_counts().LEFT\n",
        "print(x,y)"
      ],
      "metadata": {
        "id": "Zljvkp7LwGcI"
      },
      "execution_count": null,
      "outputs": []
    },
    {
      "cell_type": "code",
      "source": [
        "data_insight_3 = pd.DataFrame({'left_or_right_breast':['RIGHt','LEFT'] , 'Counts':[x,y]})\n",
        "data_insight_3"
      ],
      "metadata": {
        "id": "paCsvP95wGeP"
      },
      "execution_count": null,
      "outputs": []
    },
    {
      "cell_type": "code",
      "source": [
        "insight_3 = px.bar(data_insight_3, y= 'Counts', x='left_or_right_breast',color = 'left_or_right_breast')\n",
        "insight_3.update_layout(title_text=' clacfication cancer position of breast ', title_x=0.5)\n",
        "insight_3.show()"
      ],
      "metadata": {
        "id": "-JiATYD_wGgy"
      },
      "execution_count": null,
      "outputs": []
    },
    {
      "cell_type": "code",
      "source": [
        "z = pd.DataFrame(Data_cleaning_1['calc_type'].value_counts())\n",
        "z = z.reset_index()\n",
        "z= z.rename(columns={'calc_type':'calc_type_counts'})\n",
        "z"
      ],
      "metadata": {
        "id": "3ftPmuZJwGiU"
      },
      "execution_count": null,
      "outputs": []
    },
    {
      "cell_type": "code",
      "source": [
        "bar_3 =px.bar(data_frame=z, y = 'index', x='calc_type_counts', color = 'index', orientation='h')\n",
        "bar_3.update_layout(title_text='Types of calcification cancer', title_x=0.5,xaxis=dict(type='log'))\n",
        "bar_3.show()"
      ],
      "metadata": {
        "id": "u6zib-k4wGlu"
      },
      "execution_count": null,
      "outputs": []
    },
    {
      "cell_type": "code",
      "source": [
        "g = pd.DataFrame(Data_cleaning_1['calc_distribution'].value_counts())\n",
        "g = g.reset_index()\n",
        "g= g.rename(columns={'calc_distribution':'calc_distribution_counts'})\n",
        "g"
      ],
      "metadata": {
        "id": "mlVx1pMVwW-c"
      },
      "execution_count": null,
      "outputs": []
    },
    {
      "cell_type": "code",
      "source": [
        "bar_4 =px.bar(data_frame=g, x = 'index', y='calc_distribution_counts', color = 'index', orientation='v')\n",
        "bar_4.update_layout(title_text='Types of Distribution of calcification  cancer', title_x=0.5,yaxis=dict(type='log'))\n",
        "bar_4.show()"
      ],
      "metadata": {
        "id": "CnfFOUUfwXAr"
      },
      "execution_count": null,
      "outputs": []
    },
    {
      "cell_type": "code",
      "source": [
        "I = pd.DataFrame(Data_cleaning_1['breast_density'].value_counts())\n",
        "I =I.reset_index()\n",
        "I= I.rename(columns={'index':'Breast density','breast_density':'counts'})\n",
        "I"
      ],
      "metadata": {
        "id": "QGAcyQq7wXCx"
      },
      "execution_count": null,
      "outputs": []
    },
    {
      "cell_type": "code",
      "source": [
        "bar_5 =px.pie(data_frame=I, names= 'Breast density', values='counts', color = 'Breast density')\n",
        "bar_5.update_layout(title_text='The percenyages of Breast Density of calcification  cancer', title_x=0.5)\n",
        "bar_5.show()"
      ],
      "metadata": {
        "id": "md4PjKwfwXFI"
      },
      "execution_count": null,
      "outputs": []
    },
    {
      "cell_type": "code",
      "source": [
        "h = pd.DataFrame(Data_cleaning_1['assessment'].value_counts())\n",
        "h =h.reset_index()\n",
        "h=h.rename(columns={'index':'Breast assessment','assessment':'counts'})\n",
        "h"
      ],
      "metadata": {
        "id": "j-DxY-rXwgBP"
      },
      "execution_count": null,
      "outputs": []
    },
    {
      "cell_type": "code",
      "source": [
        "fig =px.pie(data_frame=h, values = 'counts', names='Breast assessment', color = 'Breast assessment')\n",
        "fig.update_layout(title_text='The Percentages of assessment Breast calcification  cancer', title_x=0.5)\n",
        "fig.show()"
      ],
      "metadata": {
        "id": "KIVSR0J2wgDW"
      },
      "execution_count": null,
      "outputs": []
    },
    {
      "cell_type": "code",
      "source": [
        "v = pd.DataFrame(Data_cleaning_1['subtlety'].value_counts())\n",
        "v =v.reset_index()\n",
        "v=v.rename(columns={'index':'Breast subtlety','subtlety':'counts'})\n",
        "v"
      ],
      "metadata": {
        "id": "kZ4njJz0wgGB"
      },
      "execution_count": null,
      "outputs": []
    },
    {
      "cell_type": "code",
      "source": [
        "fig_1=px.pie(data_frame=v, values = 'counts', names='Breast subtlety', color = 'Breast subtlety')\n",
        "fig_1.update_layout(title_text='The Percentages of subtlety Breast calcification  cancer', title_x=0.5)\n",
        "fig_1.show()"
      ],
      "metadata": {
        "id": "UFU0L5mswgJk"
      },
      "execution_count": null,
      "outputs": []
    },
    {
      "cell_type": "code",
      "source": [
        "a = pd.DataFrame(Data_cleaning_1['pathology'].value_counts())\n",
        "a =a.reset_index()\n",
        "a=a.rename(columns={'index':'pathology','pathology':'counts'})\n",
        "a"
      ],
      "metadata": {
        "id": "cDUffhLcwXHj"
      },
      "execution_count": null,
      "outputs": []
    },
    {
      "cell_type": "code",
      "source": [
        "fig_2 =px.bar(data_frame=a, x = 'pathology', y='counts', color = 'pathology', orientation='v')\n",
        "fig_2.update_layout(title_text='pathology of calcification  cancer', title_x=0.5)\n",
        "fig_2.show()"
      ],
      "metadata": {
        "id": "xKqM0dtLwqr1"
      },
      "execution_count": null,
      "outputs": []
    },
    {
      "cell_type": "code",
      "source": [
        "b = pd.DataFrame(Data_cleaning_1['image_view'].value_counts())\n",
        "b =b.reset_index()\n",
        "b=b.rename(columns={'index':'image_view','image_view':'counts'})\n",
        "b"
      ],
      "metadata": {
        "id": "c784MhJLwquE"
      },
      "execution_count": null,
      "outputs": []
    },
    {
      "cell_type": "code",
      "source": [
        "fig_3=px.pie(data_frame=b, values = 'counts', names='image_view', color = 'image_view')\n",
        "fig_3.update_layout(title_text='The Percentages of image_view used in calcification  cancer', title_x=0.5)\n",
        "fig_3.show()"
      ],
      "metadata": {
        "id": "ZiBRG3Y0wqwg"
      },
      "execution_count": null,
      "outputs": []
    },
    {
      "cell_type": "code",
      "source": [
        "j = pd.DataFrame(Data_cleaning_2['breast_density'].value_counts())\n",
        "j =j.reset_index()\n",
        "j= j.rename(columns={'index':'Breast density','breast_density':'counts'})\n",
        "j"
      ],
      "metadata": {
        "id": "rmEALCN9wqy1"
      },
      "execution_count": null,
      "outputs": []
    },
    {
      "cell_type": "code",
      "source": [
        "fig_4 =px.pie(data_frame=j, names= 'Breast density', values='counts', color = 'Breast density')\n",
        "fig_4.update_layout(title_text='The percenyages of Breast Density of mass  cancer', title_x=0.5)\n",
        "fig_4.show()"
      ],
      "metadata": {
        "id": "0OdCN64zwq0n"
      },
      "execution_count": null,
      "outputs": []
    },
    {
      "cell_type": "code",
      "source": [
        "k = pd.DataFrame(Data_cleaning_2['left_or_right_breast'].value_counts())\n",
        "k =k.reset_index()\n",
        "k= k.rename(columns={'index':'left_or_right_breast','left_or_right_breast':'counts'})\n",
        "k"
      ],
      "metadata": {
        "id": "OGt19WUrwq3t"
      },
      "execution_count": null,
      "outputs": []
    },
    {
      "cell_type": "code",
      "source": [
        "fig_5 =px.bar(data_frame=k, x = 'left_or_right_breast', y='counts', color = 'left_or_right_breast', orientation='v')\n",
        "fig_5.update_layout(title_text='position of mass cancer', title_x=0.5)\n",
        "fig_5.show()"
      ],
      "metadata": {
        "id": "hW9Wi624wXJ5"
      },
      "execution_count": null,
      "outputs": []
    },
    {
      "cell_type": "code",
      "source": [
        "p = pd.DataFrame(Data_cleaning_2['pathology'].value_counts())\n",
        "p =p.reset_index()\n",
        "p=p.rename(columns={'index':'pathology','pathology':'counts'})\n",
        "p"
      ],
      "metadata": {
        "id": "gwDzsVsWw6P0"
      },
      "execution_count": null,
      "outputs": []
    },
    {
      "cell_type": "code",
      "source": [
        "fig_6 =px.bar(data_frame=p, x = 'pathology', y='counts', color = 'pathology', orientation='v')\n",
        "fig_6.update_layout(title_text='pathology of mass  cancer', title_x=0.5)\n",
        "fig_6.show()"
      ],
      "metadata": {
        "id": "OJxgIs3cw6SP"
      },
      "execution_count": null,
      "outputs": []
    },
    {
      "cell_type": "code",
      "source": [
        "c = pd.DataFrame(Data_cleaning_2['subtlety'].value_counts())\n",
        "c =c.reset_index()\n",
        "c=c.rename(columns={'index':'Breast subtlety','subtlety':'counts'})"
      ],
      "metadata": {
        "id": "nQpo98k6w6Us"
      },
      "execution_count": null,
      "outputs": []
    },
    {
      "cell_type": "code",
      "source": [
        "fig_7=px.pie(data_frame=c, values = 'counts', names='Breast subtlety', color = 'Breast subtlety')\n",
        "fig_7.update_layout(title_text='The Percentages of subtlety Breast mass  cancer', title_x=0.5)\n",
        "fig_7.show()"
      ],
      "metadata": {
        "id": "6gWlyHAaw6XC"
      },
      "execution_count": null,
      "outputs": []
    },
    {
      "cell_type": "code",
      "source": [
        "o = pd.DataFrame(Data_cleaning_2['assessment'].value_counts())\n",
        "o =o.reset_index()\n",
        "o=o.rename(columns={'index':'Breast assessment','assessment':'counts'})\n",
        "o"
      ],
      "metadata": {
        "id": "e1rUnFfYw6ae"
      },
      "execution_count": null,
      "outputs": []
    },
    {
      "cell_type": "code",
      "source": [
        "fig_8 =px.pie(data_frame=o, values = 'counts', names='Breast assessment', color = 'Breast assessment')\n",
        "fig_8.update_layout(title_text='The Percentages of assessment Breast mass cancer', title_x=0.5)\n",
        "fig_8.show()"
      ],
      "metadata": {
        "id": "bOzKJqeGxEzz"
      },
      "execution_count": null,
      "outputs": []
    },
    {
      "cell_type": "code",
      "source": [
        "s = pd.DataFrame(Data_cleaning_2['mass_shape'].value_counts())\n",
        "s = s.reset_index()\n",
        "s= s.rename(columns={'mass_shape':'mass_shape_counts'})\n",
        "s"
      ],
      "metadata": {
        "id": "QjdHT2qtxE2W"
      },
      "execution_count": null,
      "outputs": []
    },
    {
      "cell_type": "code",
      "source": [
        "fig_9 =px.bar(data_frame=s, y = 'index', x='mass_shape_counts', color = 'index', orientation='h')\n",
        "fig_9.update_layout(title_text='Types of Mass_shape of mass cancer', title_x=0.5,xaxis=dict(type='log'))\n",
        "fig_9.show()"
      ],
      "metadata": {
        "id": "tiKCXLUhxE4t"
      },
      "execution_count": null,
      "outputs": []
    },
    {
      "cell_type": "code",
      "source": [
        "u = pd.DataFrame(Data_cleaning_2['mass_margins'].value_counts())\n",
        "u = u.reset_index()\n",
        "u= u.rename(columns={'index':'mass_margins','mass_margins':'counts'})\n",
        "u"
      ],
      "metadata": {
        "id": "zBO3qHyUxE7I"
      },
      "execution_count": null,
      "outputs": []
    },
    {
      "cell_type": "code",
      "source": [
        "fig_10=px.bar(data_frame=u, y = 'mass_margins', x='counts', color = 'mass_margins', orientation='h')\n",
        "fig_10.update_layout(title_text='Types of Mass_margins of mass cancer', title_x=0.5,xaxis=dict(type='log'))\n",
        "fig_10.show()"
      ],
      "metadata": {
        "id": "CDUssfRMxE-s"
      },
      "execution_count": null,
      "outputs": []
    },
    {
      "cell_type": "code",
      "source": [
        "t= pd.DataFrame(Data_cleaning_2['image_view'].value_counts())\n",
        "t=t.reset_index()\n",
        "t=t.rename(columns={'index':'image_view','image_view':'counts'})\n",
        "t"
      ],
      "metadata": {
        "id": "svf-f3E7wXNS"
      },
      "execution_count": null,
      "outputs": []
    },
    {
      "cell_type": "code",
      "source": [
        "fig_11=px.pie(data_frame=t, values = 'counts', names='image_view', color = 'image_view')\n",
        "fig_11.update_layout(title_text='The Percentages of image_view used in mass cancer', title_x=0.5)\n",
        "fig_11.show()"
      ],
      "metadata": {
        "id": "Egx8V1E7xRsg"
      },
      "execution_count": null,
      "outputs": []
    },
    {
      "cell_type": "code",
      "source": [
        "from keras.preprocessing import image\n",
        "​\n",
        "plt.figure(figsize = (15, 15))\n",
        "​\n",
        "some_non = np.random.randint(0, len(non_can_img), 18)\n",
        "some_can = np.random.randint(0, len(can_img), 18)\n",
        "​\n",
        "s = 0\n",
        "for num in some_non:\n",
        "\n",
        "        img = image.load_img((non_can_img[num]), target_size=(100, 100))\n",
        "        img = image.img_to_array(img)\n",
        "\n",
        "        plt.subplot(6, 6, 2*s+1)\n",
        "        plt.axis('off')\n",
        "        plt.title('no cancer')\n",
        "        plt.imshow(img.astype('uint8'))\n",
        "        s += 1\n",
        "\n",
        "s = 1\n",
        "for num in some_can:\n",
        "\n",
        "        img = image.load_img((can_img[num]), target_size=(100, 100))\n",
        "        img = image.img_to_array(img)\n",
        "        plt.subplot(6, 6, 2*s)\n",
        "        plt.axis('off')\n",
        "        plt.title('cancer')\n",
        "        plt.imshow(img.astype('uint8'))\n",
        "        s += 1"
      ],
      "metadata": {
        "id": "_LPGvoylxRu9"
      },
      "execution_count": null,
      "outputs": []
    },
    {
      "cell_type": "code",
      "source": [
        "from matplotlib.image import imread\n",
        "import cv2\n",
        "\n",
        "some_non_img = random.sample(non_can_img, len(non_can_img))\n",
        "some_can_img = random.sample(can_img, len(can_img))\n",
        "\n",
        "non_img_arr = []\n",
        "can_img_arr = []\n",
        "\n",
        "for img in some_non_img:\n",
        "\n",
        "    n_img = cv2.imread(img, cv2.IMREAD_COLOR)\n",
        "    n_img_size = cv2.resize(n_img, (50, 50), interpolation = cv2.INTER_LINEAR)\n",
        "    non_img_arr.append([n_img_size, 0])\n",
        "\n",
        "for img in some_can_img:\n",
        "\n",
        "    c_img = cv2.imread(img, cv2.IMREAD_COLOR)\n",
        "    c_img_size = cv2.resize(c_img, (50, 50), interpolation = cv2.INTER_LINEAR)\n",
        "    can_img_arr.append([c_img_size, 1])"
      ],
      "metadata": {
        "id": "1AWjRARoxRx5"
      },
      "execution_count": null,
      "outputs": []
    },
    {
      "cell_type": "code",
      "source": [
        "X = []\n",
        "y = []\n",
        "\n",
        "breast_img_arr = np.concatenate((non_img_arr, can_img_arr))\n",
        "random.shuffle(breast_img_arr)\n",
        "\n",
        "for feature, label in breast_img_arr:\n",
        "    X.append(feature)\n",
        "    y.append(label)\n",
        "\n",
        "X = np.array(X)\n",
        "y = np.array(y)\n",
        "\n",
        "print('X shape : {}' .format(X.shape))"
      ],
      "metadata": {
        "id": "DWN9nQYXxdvk"
      },
      "execution_count": null,
      "outputs": []
    },
    {
      "cell_type": "code",
      "source": [
        "from sklearn.model_selection import train_test_split\n",
        "from keras.utils.np_utils import to_categorical\n",
        "\n",
        "X_train, X_test, y_train, y_test = train_test_split(X, y, test_size = 0.25, random_state = 42)\n",
        "\n",
        "rate = 0.5\n",
        "num = int(X.shape[0] * rate)\n",
        "\n",
        "y_train = to_categorical(y_train, 2)\n",
        "y_test = to_categorical(y_test, 2)\n",
        "\n",
        "\n",
        "print('X_train shape : {}' .format(X_train.shape))\n",
        "print('X_test shape : {}' .format(X_test.shape))\n",
        "print('y_train shape : {}' .format(y_train.shape))\n",
        "print('y_test shape : {}' .format(y_test.shape))"
      ],
      "metadata": {
        "id": "2YG0riddxdx0"
      },
      "execution_count": null,
      "outputs": []
    },
    {
      "cell_type": "code",
      "source": [
        "import tensorflow as tf\n",
        "tf.random.set_seed(100)"
      ],
      "metadata": {
        "id": "dDyeTsiQxd0s"
      },
      "execution_count": null,
      "outputs": []
    },
    {
      "cell_type": "code",
      "source": [
        "model = tf.keras.Sequential([\n",
        "tf.keras.layers.Conv2D(32, (3, 3), padding = 'same', activation = 'relu', input_shape = (50, 50, 3)),\n",
        "tf.keras.layers.MaxPooling2D(strides = 2),\n",
        "tf.keras.layers.Conv2D(64, (3, 3), padding = 'same', activation = 'relu'),\n",
        "tf.keras.layers.MaxPooling2D((3, 3),strides = 2),\n",
        "tf.keras.layers.Conv2D(128, (3, 3), padding = 'same', activation = 'relu'),\n",
        "tf.keras.layers.MaxPooling2D((3, 3),strides =2),\n",
        "tf.keras.layers.Conv2D(128, (3, 3), padding = 'same', activation = 'relu'),\n",
        "tf.keras.layers.MaxPooling2D((3, 3),strides =2),\n",
        "tf.keras.layers.Flatten(),\n",
        "tf.keras.layers.Dense(128, activation = 'relu'),\n",
        "tf.keras.layers.Dense(2, activation = 'softmax')\n",
        "])"
      ],
      "metadata": {
        "id": "5ICSkKW0xd4S"
      },
      "execution_count": null,
      "outputs": []
    },
    {
      "cell_type": "code",
      "source": [
        "model.summary()"
      ],
      "metadata": {
        "id": "i4xsmqhIxpww"
      },
      "execution_count": null,
      "outputs": []
    },
    {
      "cell_type": "code",
      "source": [
        "model.compile(optimizer=tf.keras.optimizers.Adam(learning_rate=0.001),loss='binary_crossentropy',metrics=['accuracy'])"
      ],
      "metadata": {
        "id": "avo3Cwe9xpzU"
      },
      "execution_count": null,
      "outputs": []
    },
    {
      "cell_type": "code",
      "source": [
        "history = model.fit(X_train, y_train, validation_data = (X_test, y_test), epochs = 25 , batch_size = 75)"
      ],
      "metadata": {
        "id": "PptsK2O_xp1-"
      },
      "execution_count": null,
      "outputs": []
    },
    {
      "cell_type": "code",
      "source": [
        "model.evaluate(X_test,y_test)"
      ],
      "metadata": {
        "id": "FwoA5381xp4c"
      },
      "execution_count": null,
      "outputs": []
    },
    {
      "cell_type": "code",
      "source": [
        "from sklearn.metrics import confusion_matrix\n",
        "Y_pred = model.predict(X_test)\n",
        "Y_pred_classes = np.argmax(Y_pred,axis = 1)\n",
        "Y_true = np.argmax(y_test,axis = 1)\n",
        "\n",
        "confusion_mtx = confusion_matrix(Y_true, Y_pred_classes)\n",
        "f,ax = plt.subplots(figsize=(8, 8))\n",
        "sns.heatmap(confusion_mtx, annot=True, linewidths=0.01,cmap=\"BuPu\",linecolor=\"gray\", fmt= '.1f',ax=ax)\n",
        "plt.xlabel(\"Predicted Label\")\n",
        "plt.ylabel(\"True Label\")\n",
        "plt.title(\"Confusion Matrix\")\n",
        "plt.show()"
      ],
      "metadata": {
        "id": "LdGmbpW4xp71"
      },
      "execution_count": null,
      "outputs": []
    },
    {
      "cell_type": "code",
      "source": [
        "plt.plot(history.history['accuracy'])\n",
        "plt.plot(history.history['val_accuracy'])\n",
        "plt.title('Model Accuracy')\n",
        "plt.ylabel('accuracy')\n",
        "plt.xlabel('epoch')\n",
        "plt.legend(['train', 'test'], loc='upper left')\n",
        "plt.show()"
      ],
      "metadata": {
        "id": "5RtUwnyWx4fc"
      },
      "execution_count": null,
      "outputs": []
    },
    {
      "cell_type": "code",
      "source": [
        "plt.plot(history.history['loss'])\n",
        "plt.plot(history.history['val_loss'])\n",
        "plt.title('Model Loss')\n",
        "plt.ylabel('loss')\n",
        "plt.xlabel('epoch')\n",
        "plt.legend(['train', 'test'], loc='upper left')\n",
        "plt.show()"
      ],
      "metadata": {
        "id": "4F7eho7Nx4h8"
      },
      "execution_count": null,
      "outputs": []
    },
    {
      "cell_type": "code",
      "source": [
        "prediction = model.predict(X_test)\n",
        "prediction"
      ],
      "metadata": {
        "id": "m8qEHcLYx4kb"
      },
      "execution_count": null,
      "outputs": []
    },
    {
      "cell_type": "code",
      "source": [
        "def img_plot(arr,index=0):\n",
        "    plt.title('Test Image')\n",
        "    plt.imshow(arr[index])"
      ],
      "metadata": {
        "id": "XBVtF7qix_2H"
      },
      "execution_count": null,
      "outputs": []
    },
    {
      "cell_type": "code",
      "source": [
        "index = 90\n",
        "img_plot(X_test, index)"
      ],
      "metadata": {
        "id": "uVFxsP0zx_4q"
      },
      "execution_count": null,
      "outputs": []
    },
    {
      "cell_type": "code",
      "source": [
        "input = X_test[index:index+1]"
      ],
      "metadata": {
        "id": "WH92XAgux_8K"
      },
      "execution_count": null,
      "outputs": []
    },
    {
      "cell_type": "code",
      "source": [
        "pred = model.predict(input)[0].argmax()\n",
        "label = y_test[index].argmax()"
      ],
      "metadata": {
        "id": "6w4YlBhwx4nO"
      },
      "execution_count": null,
      "outputs": []
    },
    {
      "cell_type": "code",
      "source": [
        "print('Predicted Value using  cnn model',pred)\n",
        "print(\"True Value\",label)"
      ],
      "metadata": {
        "id": "ZFRiZfN2x4qw"
      },
      "execution_count": null,
      "outputs": []
    }
  ]
}